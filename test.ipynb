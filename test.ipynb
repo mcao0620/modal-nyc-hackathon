{
 "cells": [
  {
   "cell_type": "code",
   "execution_count": 1,
   "metadata": {},
   "outputs": [],
   "source": [
    "from retrieval_tool import ContextGrabber\n",
    "import tiktoken\n",
    "from graph_parser import SimpleASTGraphBuilder\n",
    "from indexer import SimpleRepoIndexer\n",
    "import os\n",
    "import time\n",
    "\n",
    "#build documents.json\n",
    "if not os.path.exists(\"documents.json\"):\n",
    "    token_counter = tiktoken.encoding_for_model(\"gpt-3.5-turbo\")\n",
    "    indexer = SimpleRepoIndexer(\n",
    "        \"https://github.com/spcl/graph-of-thoughts\", token_counter\n",
    "    )\n",
    "    indexer.index_repo()\n",
    "if not os.path.exists(\"graph.gml\"):\n",
    "    token_counter = tiktoken.encoding_for_model(\"gpt-3.5-turbo\")\n",
    "    graph_builder = SimpleASTGraphBuilder(\"https://github.com/spcl/graph-of-thoughts\", token_counter)\n",
    "    graph_builder.build_graph(\"graph.gml\")\n",
    "\n",
    "cg = ContextGrabber(\"graph.gml\",\"documents.json\")\n",
    "\n",
    "issue_title = \"Get response and input token costs from OpenAI website via a webcrawler, using the model id.\"\n",
    "issue_metadata = \"prompt_token_cost, response_token_cost, model_id, ChatGPT(AbstractLanguageModel)\"\n",
    "\n",
    "response, relevant_chunks, helpful_chunks = cg.workflow(issue_title,issue_metadata)"
   ]
  },
  {
   "cell_type": "code",
   "execution_count": 7,
   "metadata": {},
   "outputs": [],
   "source": [
    "import json\n",
    "time_taken = 24.3\n",
    "output_json = {\n",
    "    \"response\": response,\n",
    "    \"relevant_chunks\": relevant_chunks,\n",
    "    \"helpful_chunks\": helpful_chunks,\n",
    "    \"time_taken\": time_taken\n",
    "}\n",
    "with open(\"output.json\",\"w\") as f:\n",
    "    f.write(json.dumps(output_json,indent=4))"
   ]
  }
 ],
 "metadata": {
  "kernelspec": {
   "display_name": "arnold",
   "language": "python",
   "name": "python3"
  },
  "language_info": {
   "codemirror_mode": {
    "name": "ipython",
    "version": 3
   },
   "file_extension": ".py",
   "mimetype": "text/x-python",
   "name": "python",
   "nbconvert_exporter": "python",
   "pygments_lexer": "ipython3",
   "version": "3.11.4"
  },
  "orig_nbformat": 4
 },
 "nbformat": 4,
 "nbformat_minor": 2
}
